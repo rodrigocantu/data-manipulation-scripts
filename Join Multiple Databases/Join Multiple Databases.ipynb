{
 "cells": [
  {
   "cell_type": "code",
   "execution_count": 1,
   "metadata": {},
   "outputs": [],
   "source": [
    "import glob\n",
    "import pandas as pd"
   ]
  },
  {
   "cell_type": "code",
   "execution_count": 2,
   "metadata": {},
   "outputs": [],
   "source": [
    "#Loading the raw data\n",
    "year = str(2019)\n",
    "NROWS = 8\n",
    "month = ['Enero','Febrero','Marzo','Abril','Mayo','Junio','Julio',\\\n",
    "         'Agosto','Septiembre','Octubre','Noviembre','Diciembre']\n",
    "\n",
    "for i in range(0,12):\n",
    "    path = '/Users/rodcan/Documents/Proyecto de Investigacion/SDEWES/data/Power/'+year+'/'+month[i]+'/raw'\n",
    "    #Reading and sorting all the file directories\n",
    "    all_files = sorted(glob.glob(path + \"/*.csv\"))\n",
    "\n",
    "    #Concatenating the raw data\n",
    "    li = []\n",
    "    for filename in all_files:\n",
    "        ds = pd.read_csv(filename, index_col=False, header=0, skiprows=NROWS)\n",
    "        li.append(ds)\n",
    "    df = pd.concat(li, axis=0, ignore_index=True)\n",
    "    \n",
    "    #Converting objects to strings\n",
    "    df.iloc[:,0:2] = df.iloc[:,0:2].astype('str')\n",
    "    #Reformatting the column names\n",
    "    df.columns=[col.strip() for col in df.columns]\n",
    "    #Filtering all values from the NES Area\n",
    "    df = df[df[\"Area\"].str.contains(\"NES\")]\n",
    "    #Dropping unneeded columns\n",
    "    df.drop(df.columns[[0, 1, 3, 4, 5]], axis = 1, inplace = True) \n",
    "    #Saving the dataframe to a csv file\n",
    "#     df.to_csv(r'/Users/rodcan/Documents/MCI/Proyecto de Investigacion/SDEWES/data/Power/'\\\n",
    "#               +year+'/'+month[i]+'/'+month[i]+'.csv',index = False)"
   ]
  }
 ],
 "metadata": {
  "kernelspec": {
   "display_name": "Python 3",
   "language": "python",
   "name": "python3"
  },
  "language_info": {
   "codemirror_mode": {
    "name": "ipython",
    "version": 3
   },
   "file_extension": ".py",
   "mimetype": "text/x-python",
   "name": "python",
   "nbconvert_exporter": "python",
   "pygments_lexer": "ipython3",
   "version": "3.7.6"
  }
 },
 "nbformat": 4,
 "nbformat_minor": 2
}

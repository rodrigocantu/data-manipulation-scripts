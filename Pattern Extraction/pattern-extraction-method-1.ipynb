{
 "cells": [
  {
   "cell_type": "code",
   "execution_count": 1,
   "metadata": {},
   "outputs": [],
   "source": [
    "import numpy as np\n",
    "import pandas as pd"
   ]
  },
  {
   "cell_type": "code",
   "execution_count": 2,
   "metadata": {
    "scrolled": false
   },
   "outputs": [],
   "source": [
    "year = '2018'\n",
    "month = ['Enero','Febrero','Marzo','Abril','Mayo','Junio','Julio',\\\n",
    "         'Agosto','Septiembre','Octubre','Noviembre','Diciembre']\n",
    "for i in range(0,len(month)):\n",
    "    # Read the data.\n",
    "    df = pd.read_csv(r\"\\Users\\rodcan\\Documents\\Proyecto de Investigacion\\SDEWES\\data\\Power\\2018\\All_Files/\"+month[i]+'.csv')\n",
    "    # Remove the hour column\n",
    "    df = df.drop(df.columns[0:1], axis = 1)\n",
    "    # Transfer the dataframe's values to a list of unitary lists. \n",
    "    df = df.values.tolist()\n",
    "    # Transform list of list into a single list of len(df)\n",
    "    df = [i[0] for i in df]\n",
    "    # Calculate the days of each month\n",
    "    days = int(len(df)/24)\n",
    "    # Reshape the list into a table of len(days) columns\n",
    "    df = pd.DataFrame(np.array(df).reshape(24,days))\n",
    "    # Get the mean value of each month. \n",
    "    mean = df.mean(axis=1)\n",
    "    # Normalize the mean value. \n",
    "    mean = pd.DataFrame(mean/pd.Series.sum(mean))\n",
    "    #pd.DataFrame.to_csv(mean, r\"C:\\Users\\rodcan\\Documents\\Proyecto de Investigacion\\SDEWES\\data\\Power\\2018\\All_Files\\concat_csv/\"+month[i]+\".csv\")"
   ]
  },
  {
   "cell_type": "code",
   "execution_count": null,
   "metadata": {},
   "outputs": [],
   "source": []
  }
 ],
 "metadata": {
  "kernelspec": {
   "display_name": "Python 3",
   "language": "python",
   "name": "python3"
  },
  "language_info": {
   "codemirror_mode": {
    "name": "ipython",
    "version": 3
   },
   "file_extension": ".py",
   "mimetype": "text/x-python",
   "name": "python",
   "nbconvert_exporter": "python",
   "pygments_lexer": "ipython3",
   "version": "3.7.6"
  }
 },
 "nbformat": 4,
 "nbformat_minor": 2
}

{
 "cells": [
  {
   "cell_type": "code",
   "execution_count": 1,
   "metadata": {},
   "outputs": [],
   "source": [
    "import numpy as np\n",
    "import pandas as pd"
   ]
  },
  {
   "cell_type": "code",
   "execution_count": 2,
   "metadata": {},
   "outputs": [],
   "source": [
    "# Defining the MMA's municipality list\n",
    "municipios = ['Apodaca', 'Cadereyta Jiménez', 'El Carmen', 'García', 'San Pedro Garza García', \\\n",
    "              'General Escobedo', 'Guadalupe', 'Juárez', 'Monterrey', 'Salinas Victoria', \\\n",
    "              'San Nicolás de los Garza', 'Santa Catarina', 'Santiago']\n",
    "\n",
    "# Load the whole power consumption database for all municipalities\n",
    "power_df = pd.read_csv(r\"C:\\Users\\rodcan\\Documents\\Proyecto de Investigacion\\SDEWES\\data\\Usuarios y Consumo 2018\\Consumo-ZMM-2018-v2.csv\")\n",
    "\n",
    "# Filter only the values for the municipalities in the MMA\n",
    "mma_df = power_df.loc[power_df['Municipio'].isin(municipios)]\n",
    "\n",
    "# Creating the normalized scalar dataframe for the power data expansion\n",
    "lst = pd.read_csv(r\"C:\\Users\\rodcan\\Documents\\Proyecto de Investigacion\\SDEWES\\data\\Usuarios y Consumo 2018\\scalar-list.csv\")\n",
    "scalar_df = pd.concat([lst]*len(mma_df), ignore_index=True)\n",
    "\n",
    "# Multiply the whole power consumption by the normalized scalar values. \n",
    "# This will expand each monthly demand into 24 values, representing a typical day for each month.\n",
    "c = 0\n",
    "for i in range(0,len(mma_df)):\n",
    "    scalar_df.iloc[0+c*24:(c+1)*24,:] = scalar_df.iloc[0+c*24:(c+1)*24,:]*mma_df.iloc[i,2:14]\n",
    "    c = c + 1\n",
    "\n",
    "# Save the dataframes\n",
    "# scalar_df.to_csv(r'C:\\Users\\rodcan\\Documents\\Proyecto de Investigacion\\SDEWES\\data\\Usuarios y Consumo 2018\\scalar_df_v1.0.csv')\n",
    "# mma_df.to_csv(r'C:\\Users\\rodcan\\Documents\\Proyecto de Investigacion\\SDEWES\\data\\Usuarios y Consumo 2018\\consumo-zmm_df_v1.0.csv')"
   ]
  },
  {
   "cell_type": "code",
   "execution_count": null,
   "metadata": {},
   "outputs": [],
   "source": []
  }
 ],
 "metadata": {
  "kernelspec": {
   "display_name": "Python 3",
   "language": "python",
   "name": "python3"
  },
  "language_info": {
   "codemirror_mode": {
    "name": "ipython",
    "version": 3
   },
   "file_extension": ".py",
   "mimetype": "text/x-python",
   "name": "python",
   "nbconvert_exporter": "python",
   "pygments_lexer": "ipython3",
   "version": "3.7.6"
  }
 },
 "nbformat": 4,
 "nbformat_minor": 4
}
